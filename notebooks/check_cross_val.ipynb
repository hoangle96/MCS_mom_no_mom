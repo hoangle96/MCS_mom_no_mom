{
 "cells": [
  {
   "cell_type": "code",
   "execution_count": 11,
   "source": [
    "import pickle\n",
    "import numpy as np\n",
    "import pomegranate as pom\n",
    "import sys\n",
    "sys.path.append('../src')\n",
    "from visualization import draw_timeline_with_merged_states, save_png, draw_distribution\n",
    "\n",
    "from variables import toys_dict, tasks, toys_list\n",
    "import matplotlib.pyplot as plt\n",
    "\n",
    "from sklearn.preprocessing import KBinsDiscretizer\n",
    "\n",
    "import pandas as pd\n",
    "\n",
    "from pathlib import Path\n",
    "import os \n",
    "from collections import OrderedDict\n",
    "\n",
    "import itertools"
   ],
   "outputs": [],
   "metadata": {}
  },
  {
   "cell_type": "code",
   "execution_count": 3,
   "source": [
    "with open('../data/interim/20210721_cross_val.pickle', 'rb') as f:\n",
    "    llh_score = pickle.load(f)\n",
    "    "
   ],
   "outputs": [],
   "metadata": {}
  },
  {
   "cell_type": "code",
   "execution_count": 17,
   "source": [
    "fig = plt.figure()\n",
    "for key in llh_score.keys():\n",
    "    data = []\n",
    "    for n_state in [4,5,6]:\n",
    "        data.append(np.mean(list(itertools.chain.from_iterable(llh_score[key][n_state]))))\n",
    "    print(data)\n",
    "    plt.plot( [4,5,6], data, label = key)\n",
    "plt.legend()"
   ],
   "outputs": [
    {
     "output_type": "stream",
     "name": "stdout",
     "text": [
      "[-34.65299389139481, -34.06023506242589, -33.34791419817113]\n",
      "[-25.013671843343833, -24.68789415758439, -23.678681180508004]\n",
      "[-18.901602559662017, -18.715495841988353, -18.397237358306796]\n"
     ]
    },
    {
     "output_type": "execute_result",
     "data": {
      "text/plain": [
       "<matplotlib.legend.Legend at 0x7effcff24278>"
      ]
     },
     "metadata": {},
     "execution_count": 17
    },
    {
     "output_type": "display_data",
     "data": {
      "text/plain": [
       "<Figure size 432x288 with 1 Axes>"
      ],
      "image/png": "[encoded data removed]"
     },
     "metadata": {
      "needs_background": "light"
     }
    }
   ],
   "metadata": {}
  }
 ],
 "metadata": {
  "orig_nbformat": 4,
  "language_info": {
   "name": "python",
   "version": "3.6.8",
   "mimetype": "text/x-python",
   "codemirror_mode": {
    "name": "ipython",
    "version": 3
   },
   "pygments_lexer": "ipython3",
   "nbconvert_exporter": "python",
   "file_extension": ".py"
  },
  "kernelspec": {
   "name": "python3",
   "display_name": "Python 3.6.8 64-bit ('lehoang_python36': venv)"
  },
  "interpreter": {
   "hash": "c68a90373889e79a787655cce98e4bca793a1d88c16cd1deb5fc76d0db41bda9"
  }
 },
 "nbformat": 4,
 "nbformat_minor": 2
}